{
    "metadata": {
        "kernelspec": {
            "name": "SQL",
            "display_name": "SQL",
            "language": "sql"
        },
        "language_info": {
            "name": "sql",
            "version": ""
        }
    },
    "nbformat_minor": 2,
    "nbformat": 4,
    "cells": [
        {
            "cell_type": "markdown",
            "source": [
                "**Reasons for Cancellation per Driver Assignment**"
            ],
            "metadata": {
                "azdata_cell_guid": "a42cfa12-89e9-4cc8-a9e6-6b97bd7b92e8"
            },
            "attachments": {}
        },
        {
            "cell_type": "code",
            "source": [
                "with cte as (\r\n",
                "select \r\n",
                "case\r\n",
                "\twhen order_status_key = 4 then 'client cancellation'\r\n",
                "\telse 'system cancellation'\r\n",
                "end as 'cancellation reason',\r\n",
                "case\r\n",
                "\twhen is_driver_assigned_key = 1 then 'with driver'\r\n",
                "\telse 'without driver'\r\n",
                "end as 'driver assignment'\r\n",
                "from data_orders\r\n",
                ")\r\n",
                "select *,\r\n",
                "count(*) as orders\r\n",
                "from cte\r\n",
                "group by\r\n",
                "[cancellation reason],\r\n",
                "[driver assignment]"
            ],
            "metadata": {
                "azdata_cell_guid": "a81a53f7-ac62-4a54-9307-cd10555dc821",
                "language": "sql"
            },
            "outputs": [
                {
                    "output_type": "display_data",
                    "data": {
                        "text/html": "(4 rows affected)"
                    },
                    "metadata": {}
                },
                {
                    "output_type": "display_data",
                    "data": {
                        "text/html": "Total execution time: 00:00:00.047"
                    },
                    "metadata": {}
                },
                {
                    "output_type": "execute_result",
                    "metadata": {},
                    "execution_count": 5,
                    "data": {
                        "application/vnd.dataresource+json": {
                            "schema": {
                                "fields": [
                                    {
                                        "name": "cancellation reason"
                                    },
                                    {
                                        "name": "driver assignment"
                                    },
                                    {
                                        "name": "orders"
                                    }
                                ]
                            },
                            "data": [
                                {
                                    "cancellation reason": "client cancellation",
                                    "driver assignment": "with driver",
                                    "orders": "2811"
                                },
                                {
                                    "cancellation reason": "system cancellation",
                                    "driver assignment": "with driver",
                                    "orders": "3"
                                },
                                {
                                    "cancellation reason": "client cancellation",
                                    "driver assignment": "without driver",
                                    "orders": "4496"
                                },
                                {
                                    "cancellation reason": "system cancellation",
                                    "driver assignment": "without driver",
                                    "orders": "3406"
                                }
                            ]
                        },
                        "text/html": [
                            "<table>",
                            "<tr><th>cancellation reason</th><th>driver assignment</th><th>orders</th></tr>",
                            "<tr><td>client cancellation</td><td>with driver</td><td>2811</td></tr>",
                            "<tr><td>system cancellation</td><td>with driver</td><td>3</td></tr>",
                            "<tr><td>client cancellation</td><td>without driver</td><td>4496</td></tr>",
                            "<tr><td>system cancellation</td><td>without driver</td><td>3406</td></tr>",
                            "</table>"
                        ]
                    }
                }
            ],
            "execution_count": 5
        },
        {
            "cell_type": "markdown",
            "source": [
                "**Cancellations per Hour**"
            ],
            "metadata": {
                "azdata_cell_guid": "ed5e8ced-244e-46e3-847e-ccf55f8d09a0"
            },
            "attachments": {}
        },
        {
            "cell_type": "code",
            "source": [
                "select \r\n",
                "datepart(hour, order_datetime) as 'hour',\r\n",
                "count(order_gk) as orders\r\n",
                "from data_orders\r\n",
                "group by datepart(hour, order_datetime)\r\n",
                "order by hour "
            ],
            "metadata": {
                "azdata_cell_guid": "5c4ffefa-948b-4418-9c37-704072cf6f93",
                "language": "sql"
            },
            "outputs": [
                {
                    "output_type": "display_data",
                    "data": {
                        "text/html": "(24 rows affected)"
                    },
                    "metadata": {}
                },
                {
                    "output_type": "display_data",
                    "data": {
                        "text/html": "Total execution time: 00:00:00.023"
                    },
                    "metadata": {}
                },
                {
                    "output_type": "execute_result",
                    "metadata": {},
                    "execution_count": 6,
                    "data": {
                        "application/vnd.dataresource+json": {
                            "schema": {
                                "fields": [
                                    {
                                        "name": "hour"
                                    },
                                    {
                                        "name": "orders"
                                    }
                                ]
                            },
                            "data": [
                                {
                                    "hour": "0",
                                    "orders": "683"
                                },
                                {
                                    "hour": "1",
                                    "orders": "471"
                                },
                                {
                                    "hour": "2",
                                    "orders": "555"
                                },
                                {
                                    "hour": "3",
                                    "orders": "513"
                                },
                                {
                                    "hour": "4",
                                    "orders": "152"
                                },
                                {
                                    "hour": "5",
                                    "orders": "67"
                                },
                                {
                                    "hour": "6",
                                    "orders": "159"
                                },
                                {
                                    "hour": "7",
                                    "orders": "447"
                                },
                                {
                                    "hour": "8",
                                    "orders": "1082"
                                },
                                {
                                    "hour": "9",
                                    "orders": "412"
                                },
                                {
                                    "hour": "10",
                                    "orders": "170"
                                },
                                {
                                    "hour": "11",
                                    "orders": "193"
                                },
                                {
                                    "hour": "12",
                                    "orders": "256"
                                },
                                {
                                    "hour": "13",
                                    "orders": "366"
                                },
                                {
                                    "hour": "14",
                                    "orders": "256"
                                },
                                {
                                    "hour": "15",
                                    "orders": "439"
                                },
                                {
                                    "hour": "16",
                                    "orders": "356"
                                },
                                {
                                    "hour": "17",
                                    "orders": "541"
                                },
                                {
                                    "hour": "18",
                                    "orders": "414"
                                },
                                {
                                    "hour": "19",
                                    "orders": "317"
                                },
                                {
                                    "hour": "20",
                                    "orders": "469"
                                },
                                {
                                    "hour": "21",
                                    "orders": "846"
                                },
                                {
                                    "hour": "22",
                                    "orders": "716"
                                },
                                {
                                    "hour": "23",
                                    "orders": "836"
                                }
                            ]
                        },
                        "text/html": [
                            "<table>",
                            "<tr><th>hour</th><th>orders</th></tr>",
                            "<tr><td>0</td><td>683</td></tr>",
                            "<tr><td>1</td><td>471</td></tr>",
                            "<tr><td>2</td><td>555</td></tr>",
                            "<tr><td>3</td><td>513</td></tr>",
                            "<tr><td>4</td><td>152</td></tr>",
                            "<tr><td>5</td><td>67</td></tr>",
                            "<tr><td>6</td><td>159</td></tr>",
                            "<tr><td>7</td><td>447</td></tr>",
                            "<tr><td>8</td><td>1082</td></tr>",
                            "<tr><td>9</td><td>412</td></tr>",
                            "<tr><td>10</td><td>170</td></tr>",
                            "<tr><td>11</td><td>193</td></tr>",
                            "<tr><td>12</td><td>256</td></tr>",
                            "<tr><td>13</td><td>366</td></tr>",
                            "<tr><td>14</td><td>256</td></tr>",
                            "<tr><td>15</td><td>439</td></tr>",
                            "<tr><td>16</td><td>356</td></tr>",
                            "<tr><td>17</td><td>541</td></tr>",
                            "<tr><td>18</td><td>414</td></tr>",
                            "<tr><td>19</td><td>317</td></tr>",
                            "<tr><td>20</td><td>469</td></tr>",
                            "<tr><td>21</td><td>846</td></tr>",
                            "<tr><td>22</td><td>716</td></tr>",
                            "<tr><td>23</td><td>836</td></tr>",
                            "</table>"
                        ]
                    }
                }
            ],
            "execution_count": 6
        },
        {
            "cell_type": "markdown",
            "source": [
                "**Average Time to Cancellation in Seconds per Driver Assignment and Hour**"
            ],
            "metadata": {
                "azdata_cell_guid": "ab1c91c9-7cdc-4fbb-9e9b-979f40be4a40"
            },
            "attachments": {}
        },
        {
            "cell_type": "code",
            "source": [
                "with cte as (\r\n",
                "select \r\n",
                "case\r\n",
                "\twhen is_driver_assigned_key = 1 then 'with driver'\r\n",
                "\telse 'without driver'\r\n",
                "end as 'driver assignment',\r\n",
                "datepart(hour, order_datetime) as 'hour',\r\n",
                "cancellations_time_in_seconds\r\n",
                "from data_orders\r\n",
                ")\r\n",
                "select \r\n",
                "[driver assignment],\r\n",
                "hour,\r\n",
                "round(avg(cancellations_time_in_seconds), 0) 'average cancellation time in seconds'\r\n",
                "from cte\r\n",
                "group by \r\n",
                "[driver assignment],\r\n",
                "hour"
            ],
            "metadata": {
                "azdata_cell_guid": "00f5a9b1-57e3-4a09-ab06-19403ec2421c",
                "language": "sql"
            },
            "outputs": [
                {
                    "output_type": "display_data",
                    "data": {
                        "text/html": "Warning: Null value is eliminated by an aggregate or other SET operation."
                    },
                    "metadata": {}
                },
                {
                    "output_type": "display_data",
                    "data": {
                        "text/html": "(48 rows affected)"
                    },
                    "metadata": {}
                },
                {
                    "output_type": "display_data",
                    "data": {
                        "text/html": "Total execution time: 00:00:00.032"
                    },
                    "metadata": {}
                },
                {
                    "output_type": "execute_result",
                    "metadata": {},
                    "execution_count": 7,
                    "data": {
                        "application/vnd.dataresource+json": {
                            "schema": {
                                "fields": [
                                    {
                                        "name": "driver assignment"
                                    },
                                    {
                                        "name": "hour"
                                    },
                                    {
                                        "name": "average cancellation time in seconds"
                                    }
                                ]
                            },
                            "data": [
                                {
                                    "driver assignment": "with driver",
                                    "hour": "4",
                                    "average cancellation time in seconds": "243"
                                },
                                {
                                    "driver assignment": "with driver",
                                    "hour": "21",
                                    "average cancellation time in seconds": "214"
                                },
                                {
                                    "driver assignment": "without driver",
                                    "hour": "20",
                                    "average cancellation time in seconds": "110"
                                },
                                {
                                    "driver assignment": "without driver",
                                    "hour": "0",
                                    "average cancellation time in seconds": "112"
                                },
                                {
                                    "driver assignment": "without driver",
                                    "hour": "14",
                                    "average cancellation time in seconds": "98"
                                },
                                {
                                    "driver assignment": "with driver",
                                    "hour": "7",
                                    "average cancellation time in seconds": "189"
                                },
                                {
                                    "driver assignment": "with driver",
                                    "hour": "1",
                                    "average cancellation time in seconds": "248"
                                },
                                {
                                    "driver assignment": "with driver",
                                    "hour": "18",
                                    "average cancellation time in seconds": "268"
                                },
                                {
                                    "driver assignment": "without driver",
                                    "hour": "17",
                                    "average cancellation time in seconds": "112"
                                },
                                {
                                    "driver assignment": "without driver",
                                    "hour": "23",
                                    "average cancellation time in seconds": "122"
                                },
                                {
                                    "driver assignment": "without driver",
                                    "hour": "3",
                                    "average cancellation time in seconds": "104"
                                },
                                {
                                    "driver assignment": "without driver",
                                    "hour": "11",
                                    "average cancellation time in seconds": "78"
                                },
                                {
                                    "driver assignment": "with driver",
                                    "hour": "10",
                                    "average cancellation time in seconds": "198"
                                },
                                {
                                    "driver assignment": "with driver",
                                    "hour": "2",
                                    "average cancellation time in seconds": "303"
                                },
                                {
                                    "driver assignment": "with driver",
                                    "hour": "19",
                                    "average cancellation time in seconds": "199"
                                },
                                {
                                    "driver assignment": "without driver",
                                    "hour": "18",
                                    "average cancellation time in seconds": "98"
                                },
                                {
                                    "driver assignment": "without driver",
                                    "hour": "12",
                                    "average cancellation time in seconds": "93"
                                },
                                {
                                    "driver assignment": "with driver",
                                    "hour": "13",
                                    "average cancellation time in seconds": "249"
                                },
                                {
                                    "driver assignment": "without driver",
                                    "hour": "6",
                                    "average cancellation time in seconds": "125"
                                },
                                {
                                    "driver assignment": "with driver",
                                    "hour": "5",
                                    "average cancellation time in seconds": "314"
                                },
                                {
                                    "driver assignment": "with driver",
                                    "hour": "16",
                                    "average cancellation time in seconds": "220"
                                },
                                {
                                    "driver assignment": "without driver",
                                    "hour": "21",
                                    "average cancellation time in seconds": "114"
                                },
                                {
                                    "driver assignment": "with driver",
                                    "hour": "22",
                                    "average cancellation time in seconds": "232"
                                },
                                {
                                    "driver assignment": "without driver",
                                    "hour": "15",
                                    "average cancellation time in seconds": "115"
                                },
                                {
                                    "driver assignment": "without driver",
                                    "hour": "9",
                                    "average cancellation time in seconds": "120"
                                },
                                {
                                    "driver assignment": "with driver",
                                    "hour": "17",
                                    "average cancellation time in seconds": "248"
                                },
                                {
                                    "driver assignment": "without driver",
                                    "hour": "16",
                                    "average cancellation time in seconds": "129"
                                },
                                {
                                    "driver assignment": "with driver",
                                    "hour": "11",
                                    "average cancellation time in seconds": "258"
                                },
                                {
                                    "driver assignment": "without driver",
                                    "hour": "4",
                                    "average cancellation time in seconds": "90"
                                },
                                {
                                    "driver assignment": "without driver",
                                    "hour": "10",
                                    "average cancellation time in seconds": "75"
                                },
                                {
                                    "driver assignment": "with driver",
                                    "hour": "20",
                                    "average cancellation time in seconds": "207"
                                },
                                {
                                    "driver assignment": "with driver",
                                    "hour": "0",
                                    "average cancellation time in seconds": "294"
                                },
                                {
                                    "driver assignment": "without driver",
                                    "hour": "13",
                                    "average cancellation time in seconds": "104"
                                },
                                {
                                    "driver assignment": "without driver",
                                    "hour": "1",
                                    "average cancellation time in seconds": "98"
                                },
                                {
                                    "driver assignment": "with driver",
                                    "hour": "8",
                                    "average cancellation time in seconds": "189"
                                },
                                {
                                    "driver assignment": "with driver",
                                    "hour": "14",
                                    "average cancellation time in seconds": "236"
                                },
                                {
                                    "driver assignment": "without driver",
                                    "hour": "7",
                                    "average cancellation time in seconds": "113"
                                },
                                {
                                    "driver assignment": "with driver",
                                    "hour": "6",
                                    "average cancellation time in seconds": "273"
                                },
                                {
                                    "driver assignment": "with driver",
                                    "hour": "23",
                                    "average cancellation time in seconds": "285"
                                },
                                {
                                    "driver assignment": "with driver",
                                    "hour": "15",
                                    "average cancellation time in seconds": "206"
                                },
                                {
                                    "driver assignment": "without driver",
                                    "hour": "22",
                                    "average cancellation time in seconds": "105"
                                },
                                {
                                    "driver assignment": "without driver",
                                    "hour": "2",
                                    "average cancellation time in seconds": "106"
                                },
                                {
                                    "driver assignment": "with driver",
                                    "hour": "9",
                                    "average cancellation time in seconds": "216"
                                },
                                {
                                    "driver assignment": "without driver",
                                    "hour": "8",
                                    "average cancellation time in seconds": "121"
                                },
                                {
                                    "driver assignment": "with driver",
                                    "hour": "3",
                                    "average cancellation time in seconds": "293"
                                },
                                {
                                    "driver assignment": "without driver",
                                    "hour": "19",
                                    "average cancellation time in seconds": "113"
                                },
                                {
                                    "driver assignment": "with driver",
                                    "hour": "12",
                                    "average cancellation time in seconds": "241"
                                },
                                {
                                    "driver assignment": "without driver",
                                    "hour": "5",
                                    "average cancellation time in seconds": "122"
                                }
                            ]
                        },
                        "text/html": [
                            "<table>",
                            "<tr><th>driver assignment</th><th>hour</th><th>average cancellation time in seconds</th></tr>",
                            "<tr><td>with driver</td><td>4</td><td>243</td></tr>",
                            "<tr><td>with driver</td><td>21</td><td>214</td></tr>",
                            "<tr><td>without driver</td><td>20</td><td>110</td></tr>",
                            "<tr><td>without driver</td><td>0</td><td>112</td></tr>",
                            "<tr><td>without driver</td><td>14</td><td>98</td></tr>",
                            "<tr><td>with driver</td><td>7</td><td>189</td></tr>",
                            "<tr><td>with driver</td><td>1</td><td>248</td></tr>",
                            "<tr><td>with driver</td><td>18</td><td>268</td></tr>",
                            "<tr><td>without driver</td><td>17</td><td>112</td></tr>",
                            "<tr><td>without driver</td><td>23</td><td>122</td></tr>",
                            "<tr><td>without driver</td><td>3</td><td>104</td></tr>",
                            "<tr><td>without driver</td><td>11</td><td>78</td></tr>",
                            "<tr><td>with driver</td><td>10</td><td>198</td></tr>",
                            "<tr><td>with driver</td><td>2</td><td>303</td></tr>",
                            "<tr><td>with driver</td><td>19</td><td>199</td></tr>",
                            "<tr><td>without driver</td><td>18</td><td>98</td></tr>",
                            "<tr><td>without driver</td><td>12</td><td>93</td></tr>",
                            "<tr><td>with driver</td><td>13</td><td>249</td></tr>",
                            "<tr><td>without driver</td><td>6</td><td>125</td></tr>",
                            "<tr><td>with driver</td><td>5</td><td>314</td></tr>",
                            "<tr><td>with driver</td><td>16</td><td>220</td></tr>",
                            "<tr><td>without driver</td><td>21</td><td>114</td></tr>",
                            "<tr><td>with driver</td><td>22</td><td>232</td></tr>",
                            "<tr><td>without driver</td><td>15</td><td>115</td></tr>",
                            "<tr><td>without driver</td><td>9</td><td>120</td></tr>",
                            "<tr><td>with driver</td><td>17</td><td>248</td></tr>",
                            "<tr><td>without driver</td><td>16</td><td>129</td></tr>",
                            "<tr><td>with driver</td><td>11</td><td>258</td></tr>",
                            "<tr><td>without driver</td><td>4</td><td>90</td></tr>",
                            "<tr><td>without driver</td><td>10</td><td>75</td></tr>",
                            "<tr><td>with driver</td><td>20</td><td>207</td></tr>",
                            "<tr><td>with driver</td><td>0</td><td>294</td></tr>",
                            "<tr><td>without driver</td><td>13</td><td>104</td></tr>",
                            "<tr><td>without driver</td><td>1</td><td>98</td></tr>",
                            "<tr><td>with driver</td><td>8</td><td>189</td></tr>",
                            "<tr><td>with driver</td><td>14</td><td>236</td></tr>",
                            "<tr><td>without driver</td><td>7</td><td>113</td></tr>",
                            "<tr><td>with driver</td><td>6</td><td>273</td></tr>",
                            "<tr><td>with driver</td><td>23</td><td>285</td></tr>",
                            "<tr><td>with driver</td><td>15</td><td>206</td></tr>",
                            "<tr><td>without driver</td><td>22</td><td>105</td></tr>",
                            "<tr><td>without driver</td><td>2</td><td>106</td></tr>",
                            "<tr><td>with driver</td><td>9</td><td>216</td></tr>",
                            "<tr><td>without driver</td><td>8</td><td>121</td></tr>",
                            "<tr><td>with driver</td><td>3</td><td>293</td></tr>",
                            "<tr><td>without driver</td><td>19</td><td>113</td></tr>",
                            "<tr><td>with driver</td><td>12</td><td>241</td></tr>",
                            "<tr><td>without driver</td><td>5</td><td>122</td></tr>",
                            "</table>"
                        ]
                    }
                }
            ],
            "execution_count": 7
        },
        {
            "cell_type": "markdown",
            "source": [
                "**Average ETA in Minutes per Hour**"
            ],
            "metadata": {
                "language": "sql",
                "azdata_cell_guid": "5716ce9e-df78-42eb-8531-750adbe8d4e7"
            },
            "attachments": {}
        },
        {
            "cell_type": "code",
            "source": [
                "select \r\n",
                "datepart(hour, order_datetime) as 'hour',\r\n",
                "round(avg(m_order_eta), 0) as 'average eta in minutes'\r\n",
                "from data_orders\r\n",
                "group by datepart(hour, order_datetime)"
            ],
            "metadata": {
                "azdata_cell_guid": "22c5459c-844a-4c63-a2fc-e5369ffef859",
                "language": "sql"
            },
            "outputs": [
                {
                    "output_type": "display_data",
                    "data": {
                        "text/html": "Warning: Null value is eliminated by an aggregate or other SET operation."
                    },
                    "metadata": {}
                },
                {
                    "output_type": "display_data",
                    "data": {
                        "text/html": "(24 rows affected)"
                    },
                    "metadata": {}
                },
                {
                    "output_type": "display_data",
                    "data": {
                        "text/html": "Total execution time: 00:00:00.050"
                    },
                    "metadata": {}
                },
                {
                    "output_type": "execute_result",
                    "metadata": {},
                    "execution_count": 8,
                    "data": {
                        "application/vnd.dataresource+json": {
                            "schema": {
                                "fields": [
                                    {
                                        "name": "hour"
                                    },
                                    {
                                        "name": "average eta in minutes"
                                    }
                                ]
                            },
                            "data": [
                                {
                                    "hour": "0",
                                    "average eta in minutes": "358"
                                },
                                {
                                    "hour": "23",
                                    "average eta in minutes": "408"
                                },
                                {
                                    "hour": "15",
                                    "average eta in minutes": "455"
                                },
                                {
                                    "hour": "9",
                                    "average eta in minutes": "505"
                                },
                                {
                                    "hour": "3",
                                    "average eta in minutes": "388"
                                },
                                {
                                    "hour": "12",
                                    "average eta in minutes": "441"
                                },
                                {
                                    "hour": "6",
                                    "average eta in minutes": "427"
                                },
                                {
                                    "hour": "21",
                                    "average eta in minutes": "334"
                                },
                                {
                                    "hour": "7",
                                    "average eta in minutes": "583"
                                },
                                {
                                    "hour": "1",
                                    "average eta in minutes": "325"
                                },
                                {
                                    "hour": "18",
                                    "average eta in minutes": "419"
                                },
                                {
                                    "hour": "10",
                                    "average eta in minutes": "356"
                                },
                                {
                                    "hour": "4",
                                    "average eta in minutes": "300"
                                },
                                {
                                    "hour": "19",
                                    "average eta in minutes": "370"
                                },
                                {
                                    "hour": "13",
                                    "average eta in minutes": "428"
                                },
                                {
                                    "hour": "5",
                                    "average eta in minutes": "411"
                                },
                                {
                                    "hour": "22",
                                    "average eta in minutes": "373"
                                },
                                {
                                    "hour": "16",
                                    "average eta in minutes": "441"
                                },
                                {
                                    "hour": "2",
                                    "average eta in minutes": "391"
                                },
                                {
                                    "hour": "17",
                                    "average eta in minutes": "520"
                                },
                                {
                                    "hour": "11",
                                    "average eta in minutes": "391"
                                },
                                {
                                    "hour": "20",
                                    "average eta in minutes": "300"
                                },
                                {
                                    "hour": "14",
                                    "average eta in minutes": "388"
                                },
                                {
                                    "hour": "8",
                                    "average eta in minutes": "637"
                                }
                            ]
                        },
                        "text/html": [
                            "<table>",
                            "<tr><th>hour</th><th>average eta in minutes</th></tr>",
                            "<tr><td>0</td><td>358</td></tr>",
                            "<tr><td>23</td><td>408</td></tr>",
                            "<tr><td>15</td><td>455</td></tr>",
                            "<tr><td>9</td><td>505</td></tr>",
                            "<tr><td>3</td><td>388</td></tr>",
                            "<tr><td>12</td><td>441</td></tr>",
                            "<tr><td>6</td><td>427</td></tr>",
                            "<tr><td>21</td><td>334</td></tr>",
                            "<tr><td>7</td><td>583</td></tr>",
                            "<tr><td>1</td><td>325</td></tr>",
                            "<tr><td>18</td><td>419</td></tr>",
                            "<tr><td>10</td><td>356</td></tr>",
                            "<tr><td>4</td><td>300</td></tr>",
                            "<tr><td>19</td><td>370</td></tr>",
                            "<tr><td>13</td><td>428</td></tr>",
                            "<tr><td>5</td><td>411</td></tr>",
                            "<tr><td>22</td><td>373</td></tr>",
                            "<tr><td>16</td><td>441</td></tr>",
                            "<tr><td>2</td><td>391</td></tr>",
                            "<tr><td>17</td><td>520</td></tr>",
                            "<tr><td>11</td><td>391</td></tr>",
                            "<tr><td>20</td><td>300</td></tr>",
                            "<tr><td>14</td><td>388</td></tr>",
                            "<tr><td>8</td><td>637</td></tr>",
                            "</table>"
                        ]
                    }
                }
            ],
            "execution_count": 8
        }
    ]
}
